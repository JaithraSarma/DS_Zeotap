{
 "cells": [
  {
   "cell_type": "code",
   "execution_count": 1,
   "metadata": {},
   "outputs": [],
   "source": [
    "import pandas as pd\n",
    "import numpy as np\n",
    "from sklearn.preprocessing import OneHotEncoder, StandardScaler\n",
    "from sklearn.metrics.pairwise import cosine_similarity"
   ]
  },
  {
   "cell_type": "markdown",
   "metadata": {},
   "source": [
    "## Loading and Merging"
   ]
  },
  {
   "cell_type": "code",
   "execution_count": 2,
   "metadata": {},
   "outputs": [],
   "source": [
    "customers = pd.read_csv('Customers.csv')\n",
    "products = pd.read_csv('Products.csv')\n",
    "transactions = pd.read_csv('Transactions.csv')\n",
    "\n",
    "merged_data = pd.merge(transactions, products[['ProductID', 'Category']], on='ProductID', how='inner')\n",
    "merged_data = pd.merge(merged_data, customers, on='CustomerID', how='inner')\n",
    "\n",
    "customers['SignupDate'] = pd.to_datetime(customers['SignupDate'])\n",
    "customers['Tenure'] = (pd.to_datetime('today') - customers['SignupDate']).dt.days"
   ]
  },
  {
   "cell_type": "markdown",
   "metadata": {},
   "source": [
    "## Cusomter profile and Transaction Information"
   ]
  },
  {
   "cell_type": "code",
   "execution_count": 3,
   "metadata": {},
   "outputs": [],
   "source": [
    "encoder = OneHotEncoder(sparse_output=False)\n",
    "region_encoded = encoder.fit_transform(customers[['Region']])\n",
    "region_encoded_df = pd.DataFrame(region_encoded, columns=encoder.categories_[0], index=customers['CustomerID'])\n",
    "customers_profile = pd.concat([customers[['CustomerID', 'Tenure']], region_encoded_df], axis=1)\n",
    "\n",
    "transaction_agg = merged_data.groupby(['CustomerID', 'Category']).agg(\n",
    "    total_spent=('TotalValue', 'sum'),\n",
    "    transaction_count=('TransactionID', 'count')\n",
    ").reset_index()\n",
    "\n",
    "transaction_pivot = transaction_agg.pivot_table(\n",
    "    index='CustomerID',\n",
    "    columns='Category',\n",
    "    values=['total_spent', 'transaction_count'],\n",
    "    aggfunc='sum',\n",
    "    fill_value=0\n",
    ")\n",
    "\n",
    "transaction_pivot.columns = [f\"{col[1]}_{col[0]}\" for col in transaction_pivot.columns]\n",
    "customer_data = pd.merge(customers_profile, transaction_pivot, left_on='CustomerID', right_index=True)\n"
   ]
  },
  {
   "cell_type": "markdown",
   "metadata": {},
   "source": [
    "## Scaling and Calculating Similarity"
   ]
  },
  {
   "cell_type": "code",
   "execution_count": 4,
   "metadata": {},
   "outputs": [],
   "source": [
    "customer_data = customer_data.fillna(0)\n",
    "scaler = StandardScaler()\n",
    "customer_data_scaled = scaler.fit_transform(customer_data.drop(columns='CustomerID'))\n",
    "\n",
    "similarity_matrix = cosine_similarity(customer_data_scaled)\n",
    "similarity_df = pd.DataFrame(similarity_matrix, index=customer_data['CustomerID'], columns=customer_data['CustomerID'])"
   ]
  },
  {
   "cell_type": "markdown",
   "metadata": {},
   "source": [
    "## Identifying Lookalike Customers"
   ]
  },
  {
   "cell_type": "code",
   "execution_count": 5,
   "metadata": {},
   "outputs": [
    {
     "name": "stdout",
     "output_type": "stream",
     "text": [
      "Lookalike.csv has been generated successfully!\n"
     ]
    }
   ],
   "source": [
    "top_20_customers = customers['CustomerID'][:20]\n",
    "lookalikes = []\n",
    "\n",
    "for customer in top_20_customers:\n",
    "    similarity_scores = similarity_df[customer]\n",
    "    similarity_scores = similarity_scores.drop(customer)\n",
    "    top_similar = similarity_scores.nlargest(3)\n",
    "    for sim_customer, score in zip(top_similar.index, top_similar.values):\n",
    "        lookalikes.append([customer, sim_customer, score])\n",
    "\n",
    "lookalike_df = pd.DataFrame(lookalikes, columns=[\"CustomerID\", \"LookalikeCustomerID\", \"SimilarityScore\"])\n",
    "\n",
    "lookalike_df.to_csv('Jaithra_Karlapalam_Lookalike.csv', index=False)\n",
    "print(\"Lookalike.csv has been generated successfully!\")"
   ]
  }
 ],
 "metadata": {
  "kernelspec": {
   "display_name": "Python 3",
   "language": "python",
   "name": "python3"
  },
  "language_info": {
   "codemirror_mode": {
    "name": "ipython",
    "version": 3
   },
   "file_extension": ".py",
   "mimetype": "text/x-python",
   "name": "python",
   "nbconvert_exporter": "python",
   "pygments_lexer": "ipython3",
   "version": "3.12.6"
  }
 },
 "nbformat": 4,
 "nbformat_minor": 2
}
